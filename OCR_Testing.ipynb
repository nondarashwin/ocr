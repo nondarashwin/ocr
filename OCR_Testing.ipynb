{
 "cells": [
  {
   "cell_type": "code",
   "execution_count": 24,
   "metadata": {},
   "outputs": [],
   "source": [
    "import pickle\n",
    "import pandas as pd\n",
    "##loading model\n",
    "clf = pickle.load(open('models/ann_3_relu.sav', 'rb'))\n",
    "#response=unpickler.load()"
   ]
  },
  {
   "cell_type": "code",
   "execution_count": 25,
   "metadata": {},
   "outputs": [
    {
     "name": "stdout",
     "output_type": "stream",
     "text": [
      "score on train data:  1.0\n"
     ]
    }
   ],
   "source": [
    "##running tests\n",
    "from sklearn.metrics import accuracy_score\n",
    "test_data=pd.read_csv(\"Formatted_Dataset/test.csv\")\n",
    "test_data=test_data.fillna(255)\n",
    "test_labels=test_data['labels']\n",
    "test_data=test_data.drop(['labels'],axis=1)\n",
    "a=clf.predict(test_data)\n",
    "test_score = accuracy_score(a, test_labels)\n",
    "print(\"score on train data: \", test_score)"
   ]
  },
  {
   "cell_type": "code",
   "execution_count": null,
   "metadata": {},
   "outputs": [],
   "source": []
  }
 ],
 "metadata": {
  "kernelspec": {
   "display_name": "Python 3",
   "language": "python",
   "name": "python3"
  },
  "language_info": {
   "codemirror_mode": {
    "name": "ipython",
    "version": 3
   },
   "file_extension": ".py",
   "mimetype": "text/x-python",
   "name": "python",
   "nbconvert_exporter": "python",
   "pygments_lexer": "ipython3",
   "version": "3.8.10"
  }
 },
 "nbformat": 4,
 "nbformat_minor": 4
}
