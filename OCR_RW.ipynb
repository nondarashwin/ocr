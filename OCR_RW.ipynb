{
 "cells": [
  {
   "cell_type": "code",
   "execution_count": 60,
   "metadata": {},
   "outputs": [],
   "source": [
    "from PIL import Image\n",
    "import numpy as np\n",
    "import pickle\n",
    "RESIZE=(20,20)\n",
    "clf = pickle.load(open('models/ann_3_relu.sav', 'rb'))"
   ]
  },
  {
   "cell_type": "code",
   "execution_count": 61,
   "metadata": {},
   "outputs": [],
   "source": [
    "def dimension_converter(array):\n",
    "    output=list()\n",
    "    for i in array:\n",
    "        for j in i:\n",
    "            output.append(j)\n",
    "    return output"
   ]
  },
  {
   "cell_type": "code",
   "execution_count": 62,
   "metadata": {},
   "outputs": [],
   "source": [
    "img = Image.open('/home/rashwin/Pictures/Screenshot from 2021-05-04 17-34-26.png')\n",
    "ary = np.array(img)\n",
    "if(len(ary[0])==3):\n",
    "    r,g,b=np.split(ary,3,axis=2)\n",
    "else:\n",
    "    r,g,b,temp=np.split(ary,4,axis=2)\n",
    "r=r.reshape(-1)\n",
    "g=r.reshape(-1)\n",
    "b=r.reshape(-1) \n",
    "bitmap = list(map(lambda x: 0.299*x[0]+0.587*x[1]+0.114*x[2], \n",
    "zip(r,g,b)))\n",
    "bitmap = np.array(bitmap).reshape([ary.shape[0], ary.shape[1]])\n",
    "bitmap = np.dot((bitmap > 128).astype(float),255)\n",
    "im = Image.fromarray(bitmap.astype(np.uint8))\n",
    "im=im.resize(RESIZE)\n",
    "pixels = list(im.getdata())\n",
    "width, height = im.size\n",
    "pixels = [pixels[i * width:(i + 1) * width] for i in range(height)]\n",
    "pixels=dimension_converter(pixels)"
   ]
  },
  {
   "cell_type": "code",
   "execution_count": null,
   "metadata": {},
   "outputs": [],
   "source": []
  },
  {
   "cell_type": "code",
   "execution_count": 63,
   "metadata": {},
   "outputs": [
    {
     "data": {
      "text/plain": [
       "array(['SMALL_TAU'], dtype='<U12')"
      ]
     },
     "execution_count": 63,
     "metadata": {},
     "output_type": "execute_result"
    }
   ],
   "source": [
    "import pandas as pd\n",
    "d=pd.DataFrame(pixels).T\n",
    "d\n",
    "clf.predict(d)"
   ]
  },
  {
   "cell_type": "code",
   "execution_count": 59,
   "metadata": {},
   "outputs": [
    {
     "data": {
      "text/plain": [
       "1600"
      ]
     },
     "execution_count": 59,
     "metadata": {},
     "output_type": "execute_result"
    }
   ],
   "source": [
    "len(pixels)"
   ]
  },
  {
   "cell_type": "code",
   "execution_count": null,
   "metadata": {},
   "outputs": [],
   "source": []
  }
 ],
 "metadata": {
  "kernelspec": {
   "display_name": "Python 3",
   "language": "python",
   "name": "python3"
  },
  "language_info": {
   "codemirror_mode": {
    "name": "ipython",
    "version": 3
   },
   "file_extension": ".py",
   "mimetype": "text/x-python",
   "name": "python",
   "nbconvert_exporter": "python",
   "pygments_lexer": "ipython3",
   "version": "3.8.10"
  }
 },
 "nbformat": 4,
 "nbformat_minor": 4
}
